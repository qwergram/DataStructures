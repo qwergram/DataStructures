{
 "cells": [
  {
   "cell_type": "markdown",
   "metadata": {},
   "source": [
    "# Singly Linked List\n",
    "\n",
    "In this challenge, create a data structure where `Nodes` will point to their children.\n",
    "\n",
    "Required functionality:\n",
    "\n",
    "- `.insert(value)` to insert a value\n",
    "- `.remove(value)` to remove a value\n",
    "- `.pop()` remove the first value and return it\n",
    "- `.size()` to get the length of a list.\n",
    "- `.search(value)` to get the index of a certain value\n",
    "- `.display()` to see a string representation of the linked list\n",
    "\n",
    "Bonus functionality:\n",
    "\n",
    "- `.__str__` to get string representation of our list\n",
    "- `.__len__` to get length of list\n",
    "- `.__contains__` for `in` operations\n",
    "\n",
    "There are two ways to solve this problem. One is by building a `Node` object _AND_ a `Container` object. OR. You could build just a `Node` object. I will be doing only the `Node` first."
   ]
  },
  {
   "cell_type": "code",
   "execution_count": 1,
   "metadata": {
    "collapsed": true
   },
   "outputs": [],
   "source": [
    "class Node(object):\n",
    "    \n",
    "    def __init__(self, value, child=None):\n",
    "        self.value = value\n",
    "        self.child = child\n",
    "        \n",
    "    def insert(value):\n",
    "        pass\n",
    "    \n",
    "    def remove(value):\n",
    "        pass\n",
    "        "
   ]
  },
  {
   "cell_type": "markdown",
   "metadata": {},
   "source": [
    "Our first `__init__` method takes two parameters, one being optional.\n",
    "\n",
    "`value` will be the data that this `Node` contains.\n",
    "`child` will be our pointer to the next `Node`.\n",
    "\n",
    "Let's fill in our insert function to spawn a `Node(value)` and set the child to that value."
   ]
  },
  {
   "cell_type": "code",
   "execution_count": 2,
   "metadata": {
    "collapsed": true
   },
   "outputs": [],
   "source": [
    "class Node(object):\n",
    "    \n",
    "    def __init__(self, value, child=None):\n",
    "        self.value = value\n",
    "        self.child = child\n",
    "        \n",
    "    def insert(self, value):\n",
    "        if self.child:\n",
    "            self.child.insert(value)\n",
    "        else:\n",
    "            self.child = Node(value)\n",
    "    \n",
    "    def remove(value):\n",
    "        pass\n",
    "        "
   ]
  },
  {
   "cell_type": "markdown",
   "metadata": {},
   "source": [
    "Let's break our code down:\n",
    "\n",
    "```\n",
    "1 | def insert(self, value):\n",
    "2 |      if self.child:\n",
    "3 |          self.child.insert(value)\n",
    "4 |      else:\n",
    "5 |          self.child = Node(value)\n",
    "```\n",
    "\n",
    "In line two, we ask our node the question: \"Do you have a child?\" If the current node does, we pass the question down to that node's child, and if that node has a child, it keeps passing the buck until we reach a point where there isn't a child. If there isn't a child, line 4 is triggered and we decend into the `else` block. Where we set the child to a new `Node` where the value is value we specify.\n",
    "\n",
    "So does this work? Let's write some tests to find out."
   ]
  },
  {
   "cell_type": "code",
   "execution_count": 3,
   "metadata": {
    "collapsed": false
   },
   "outputs": [
    {
     "name": "stdout",
     "output_type": "stream",
     "text": [
      "test_node_insert() passed!\n"
     ]
    }
   ],
   "source": [
    "def test_node_insert():\n",
    "    SLL = Node(10)\n",
    "    SLL.insert(\"a new node\")\n",
    "    SLL.insert(\"another node\")\n",
    "    assert SLL.value == 10\n",
    "    assert SLL.child.value == \"a new node\"\n",
    "    assert SLL.child.child.value == \"another node\"\n",
    "    print(\"test_node_insert() passed!\")\n",
    "    \n",
    "test_node_insert()"
   ]
  },
  {
   "cell_type": "markdown",
   "metadata": {},
   "source": [
    "Great! So let's continue with our assignment and write a `.remove()` method."
   ]
  },
  {
   "cell_type": "code",
   "execution_count": 4,
   "metadata": {
    "collapsed": false
   },
   "outputs": [],
   "source": [
    "class Node(object):\n",
    "    \n",
    "    def __init__(self, value, child=None):\n",
    "        self.value = value\n",
    "        self.child = child\n",
    "        \n",
    "    def insert(self, value):\n",
    "        if self.child:\n",
    "            self.child.insert(value)\n",
    "        else:\n",
    "            self.child = Node(value)\n",
    "    \n",
    "    def remove(self, value):\n",
    "        if self.value == value: # happens only if trying to remove root\n",
    "            try:\n",
    "                self.value = self.child.value\n",
    "                self.child = self.child.child\n",
    "                return True\n",
    "            except AttributeError:\n",
    "                return False\n",
    "        elif self.child:\n",
    "            if self.child.value == value:\n",
    "                self.child = self.child.child\n",
    "                return True\n",
    "            else:\n",
    "                return self.child.remove(value)\n",
    "        else:\n",
    "            return False\n",
    "        \n",
    "             \n",
    "  "
   ]
  },
  {
   "cell_type": "markdown",
   "metadata": {},
   "source": [
    "Let's break our code down:\n",
    "\n",
    "```\n",
    "01 | def remove(self, value):\n",
    "02 |         if self.value == value: # happens only if trying to remove root\n",
    "03 |             try:\n",
    "04 |                 self.value = self.child.value\n",
    "05 |                 self.child = self.child.child\n",
    "06 |                 return True\n",
    "07 |             except AttributeError:\n",
    "08 |                 return False\n",
    "09 |         elif self.child:\n",
    "10 |             if self.child.value == value:\n",
    "11 |                 self.child = self.child.child\n",
    "12 |                 return True\n",
    "13 |             else:\n",
    "14 |                 return self.child.remove(value)\n",
    "15 |         else:\n",
    "16 |             return False\n",
    "```\n",
    "\n",
    "In line 2, we ask the question: \"Is this node the node we want to remove?\" If it is, we try do the following steps:\n",
    "(Lines 4 - 6)\n",
    "- Set this node's value to it's child value (which may throw an `AttributeError` if the child is `None`)\n",
    "- Set this node's child to the child's child or grandchild\n",
    "- `return True` to signal succesful completion of deletion\n",
    "We wrap this code in a `try .. except` block incase the child is `None` (doesn't have a child), which means the user is trying to remove a Node that contains only one item. We'll return `False` in this scenario (line 8) to signal that user can't do this.\n",
    "\n",
    "While we could raise an exception, I want to create a low-fuss system for now.\n",
    "\n",
    "In the scenario where line 2 is `False` or the current node isn't the one we want to remove, we then ask the question (line 9): \"Do we have a child?\" If we do, then we check that child's value to see if it's the node we want to remove. If it is, we set the current node's child to the child's child.\n",
    "\n",
    "In the case where the child isn't the node we want to remove, we pass the task to the that child and ask it the same questions.\n",
    "\n",
    "Finally, in the scenario where the node doesn't have any children, we assume we reached the end of the list, and `return False` to signal that we weren't able to find the node the user wanted to remove\n",
    "\n",
    "Let's see that remove works now."
   ]
  },
  {
   "cell_type": "code",
   "execution_count": 5,
   "metadata": {
    "collapsed": false
   },
   "outputs": [
    {
     "name": "stdout",
     "output_type": "stream",
     "text": [
      "test_node_insert() passed!\n",
      "test_node_remove() passed!\n"
     ]
    }
   ],
   "source": [
    "def test_node_remove():\n",
    "    SLL = Node(1)\n",
    "    SLL.insert(3)\n",
    "    SLL.insert(4)\n",
    "    SLL.insert(5)\n",
    "    SLL.insert(6)\n",
    "    SLL.insert(7)\n",
    "    \n",
    "    SLL.remove(1)\n",
    "    SLL.remove(6)\n",
    "    SLL.remove(7)\n",
    "    \n",
    "    SLL2 = Node(1)\n",
    "    SLL2.insert(\"hello\")\n",
    "    SLL2.remove(1)\n",
    "    assert SLL2.remove(\"woops!\") is False\n",
    "    \n",
    "    assert SLL2.value == \"hello\"\n",
    "    assert SLL2.child == None\n",
    "    \n",
    "    assert SLL.value == 3\n",
    "    assert SLL.child.value == 4\n",
    "    assert SLL.child.child.value == 5\n",
    "    assert SLL.child.child.child is None\n",
    "    \n",
    "    print(\"test_node_remove() passed!\")\n",
    "    \n",
    "test_node_insert()\n",
    "test_node_remove()"
   ]
  },
  {
   "cell_type": "markdown",
   "metadata": {},
   "source": [
    "If it seems redundent to check the current node and the child node for deletion status over and over again, it's because it is. Let's time how slow our current method is."
   ]
  },
  {
   "cell_type": "code",
   "execution_count": 6,
   "metadata": {
    "collapsed": false
   },
   "outputs": [
    {
     "name": "stdout",
     "output_type": "stream",
     "text": [
      "On average, it took 9.063720703125e-05 seconds to remove 100 nodes.\n"
     ]
    }
   ],
   "source": [
    "def time_remove_node():\n",
    "    history = []\n",
    "    for x in range(100):\n",
    "        import time\n",
    "        Instance = Node(\"Hello World!\")\n",
    "        for x in range(100):\n",
    "            Instance.insert(x)\n",
    "        start_deletions = time.time()\n",
    "        for x in range(100):\n",
    "            Instance.remove(x)\n",
    "        end_deletions = time.time()\n",
    "        history.append(end_deletions - start_deletions)\n",
    "    print(\"On average, it took {} seconds to remove 100 nodes.\".format(sum(history)/len(history)))\n",
    "    return sum(history)/len(history)\n",
    "    \n",
    "double_work = time_remove_node()"
   ]
  },
  {
   "cell_type": "markdown",
   "metadata": {},
   "source": [
    "Let's see how much time we save by breaking up our `.remove()` method into two:\n",
    "\n",
    "- `._remove()` for the recursion\n",
    "- `.remove()` to initially check the root and then call `._remove()`"
   ]
  },
  {
   "cell_type": "code",
   "execution_count": 7,
   "metadata": {
    "collapsed": true
   },
   "outputs": [],
   "source": [
    "class Node(object):\n",
    "    \n",
    "    def __init__(self, value, child=None):\n",
    "        self.value = value\n",
    "        self.child = child\n",
    "        \n",
    "    def insert(self, value):\n",
    "        if self.child:\n",
    "            self.child.insert(value)\n",
    "        else:\n",
    "            self.child = Node(value)\n",
    "    \n",
    "    def _remove(self, value):\n",
    "        if self.child:\n",
    "            if self.child.value == value:\n",
    "                self.child = self.child.child\n",
    "                return True\n",
    "            else:\n",
    "                return self.child._remove(value)\n",
    "        else:\n",
    "            return False\n",
    "        \n",
    "    def remove(self, value):\n",
    "        if self.value == value: # happens only if trying to remove root\n",
    "            try:\n",
    "                self.value = self.child.value\n",
    "                self.child = self.child.child\n",
    "                return True\n",
    "            except AttributeError:\n",
    "                return False\n",
    "        else:\n",
    "            return self._remove(value)\n",
    "        "
   ]
  },
  {
   "cell_type": "markdown",
   "metadata": {},
   "source": [
    "All we did was split the `.remove()` into two, let's run our tests and then check the time again."
   ]
  },
  {
   "cell_type": "code",
   "execution_count": 8,
   "metadata": {
    "collapsed": false
   },
   "outputs": [
    {
     "name": "stdout",
     "output_type": "stream",
     "text": [
      "test_node_remove() passed!\n",
      "On average, it took 0.00013529539108276368 seconds to remove 100 nodes.\n",
      "double_work to two_methods ratio is 0.6699208768745485\n"
     ]
    }
   ],
   "source": [
    "test_node_remove()\n",
    "two_methods = time_remove_node()\n",
    "print(\"double_work to two_methods ratio is {}\".format(double_work / two_methods))"
   ]
  },
  {
   "cell_type": "markdown",
   "metadata": {},
   "source": [
    "Interesting, it's actually faster to check the child and grandchild for _every_ node instead of splitting the method into two and doing half the work every time. Doing double_work is around 40% faster! This means we'll be sticking to one `.remove()` method, despite the redundancy."
   ]
  },
  {
   "cell_type": "markdown",
   "metadata": {},
   "source": [
    "Let's build out some more functionality, let's build `.pop()`.\n",
    "\n",
    "An important thing to note, is that `.pop()` is supposed to be much faster than `.remove()`. So let's make it that way. We currently know from our tests it takes around `8.703947067260742e-05` to remove 100 nodes, so let's try to beat that record!\n"
   ]
  },
  {
   "cell_type": "code",
   "execution_count": 9,
   "metadata": {
    "collapsed": true
   },
   "outputs": [],
   "source": [
    "class Node(object):\n",
    "    \n",
    "    def __init__(self, value, child=None):\n",
    "        self.value = value\n",
    "        self.child = child\n",
    "        \n",
    "    def insert(self, value):\n",
    "        if self.child:\n",
    "            self.child.insert(value)\n",
    "        else:\n",
    "            self.child = Node(value)\n",
    "    \n",
    "    def remove(self, value):\n",
    "        if self.value == value: # happens only if trying to remove root\n",
    "            try:\n",
    "                self.value = self.child.value\n",
    "                self.child = self.child.child\n",
    "                return True\n",
    "            except AttributeError:\n",
    "                return False\n",
    "        elif self.child:\n",
    "            if self.child.value == value:\n",
    "                self.child = self.child.child\n",
    "                return True\n",
    "            else:\n",
    "                return self.child.remove(value)\n",
    "        else:\n",
    "            return False\n",
    "        \n",
    "    def pop(self):\n",
    "        try:\n",
    "            value = self.value\n",
    "            self.value, self.child = self.child.value, self.child.child\n",
    "            return value\n",
    "        except AttributeError:\n",
    "            return"
   ]
  },
  {
   "cell_type": "markdown",
   "metadata": {},
   "source": [
    "This code is a lot like our initial code of `.remove()`. We just moved it to `.pop()`. Let's write some tests for it, and then we can time it."
   ]
  },
  {
   "cell_type": "code",
   "execution_count": 11,
   "metadata": {
    "collapsed": false
   },
   "outputs": [
    {
     "name": "stdout",
     "output_type": "stream",
     "text": [
      "test_node_insert() passed!\n",
      "test_node_remove() passed!\n",
      "test_node_pop() passed!\n"
     ]
    }
   ],
   "source": [
    "def test_node_pop():\n",
    "    SLL = Node(0)\n",
    "    for x in range(1, 100):\n",
    "        SLL.insert(x)\n",
    "    for x in range(0,100,-1):\n",
    "        result = SLL.pop()\n",
    "        assert result == x, \"result: {} expected: {}\".format(result, x)\n",
    "    \n",
    "    print(\"test_node_pop() passed!\")\n",
    "    \n",
    "test_node_insert()\n",
    "test_node_remove()\n",
    "test_node_pop()"
   ]
  },
  {
   "cell_type": "code",
   "execution_count": 12,
   "metadata": {
    "collapsed": false,
    "scrolled": true
   },
   "outputs": [
    {
     "name": "stdout",
     "output_type": "stream",
     "text": [
      "On average, it took 8.255958557128906e-05 seconds to pop 100 nodes.\n",
      "Pop:Remove time ratio: 0.9108796296296295\n"
     ]
    }
   ],
   "source": [
    "def time_pop_node():\n",
    "    history = []\n",
    "    for x in range(100):\n",
    "        import time\n",
    "        Instance = Node(\"Hello World!\")\n",
    "        for x in range(100):\n",
    "            Instance.insert(x)\n",
    "        start_deletions = time.time()\n",
    "        for x in range(100):\n",
    "            Instance.pop()\n",
    "        end_deletions = time.time()\n",
    "        history.append(end_deletions - start_deletions)\n",
    "    print(\"On average, it took {} seconds to pop 100 nodes.\".format(sum(history)/len(history)))\n",
    "    return sum(history)/len(history)\n",
    "\n",
    "average_pop = time_pop_node()\n",
    "print(\"Pop:Remove time ratio: {}\".format(average_pop/double_work))"
   ]
  },
  {
   "cell_type": "markdown",
   "metadata": {},
   "source": [
    "It's faster, but not by much (9 measly percent). If we remove the `try .. except` block we could probably get it to go faster, but we need it in case the user screws up. \n",
    "\n",
    "Our next step is to implement a `.size()` method and port it over to `__len__`. We could do it one of two ways:\n",
    "\n",
    "- Have a `._size` attribute that adjusts every time we call `.pop()`/`.insert()`/`.remove()`\n",
    "- Calculate the size when `.size()` is called with iteration.\n",
    "\n",
    "In terms of speediness and difficulty, I think I'll go with the first choice because it's easier to implement and it will be more time and memory efficient than loading it up every time we call `.size()`. So I'll just adjust some methods we have right now."
   ]
  },
  {
   "cell_type": "code",
   "execution_count": 13,
   "metadata": {
    "collapsed": true
   },
   "outputs": [],
   "source": [
    "class Node(object):\n",
    "    \n",
    "    def __init__(self, value, child=None):\n",
    "        self.value = value\n",
    "        self.child = child\n",
    "        self._size = 1\n",
    "        \n",
    "    def insert(self, value):\n",
    "        if self.child:\n",
    "            self._size += 1 # increase by one every insert\n",
    "            self.child.insert(value) \n",
    "        else:\n",
    "            self._size += 1\n",
    "            self.child = Node(value)\n",
    "            \n",
    "    \n",
    "    def remove(self, value):\n",
    "        if self.value == value:\n",
    "            try:\n",
    "                self.value = self.child.value\n",
    "                self.child = self.child.child\n",
    "                self._size -= 1 # decrease by one every remove\n",
    "                return True\n",
    "            except AttributeError:\n",
    "                return False\n",
    "        elif self.child:\n",
    "            if self.child.value == value:\n",
    "                self.child = self.child.child\n",
    "                self._size -= 1 # same thing\n",
    "                return True\n",
    "            else:\n",
    "                return self.child.remove(value)\n",
    "        else:\n",
    "            return False\n",
    "        \n",
    "    def pop(self):\n",
    "        try:\n",
    "            value = self.value\n",
    "            self.value, self.child = self.child.value, self.child.child\n",
    "            self._size -= 1 # decrease one every pop\n",
    "            return value\n",
    "        except AttributeError:\n",
    "            return\n",
    "        \n",
    "    def size(self):\n",
    "        return self._size\n",
    "    \n",
    "    __len__ = size"
   ]
  },
  {
   "cell_type": "markdown",
   "metadata": {},
   "source": [
    "Theoretically, we could make `size()` a `property` because it behaves so much like one, but the assignment calls for a method, and not a `@property` so we won't bother. It does however state a bonus method called `__len__` which we implemented. Which just a proxy to the `size()` method.\n",
    "\n",
    "Let's write some tests."
   ]
  },
  {
   "cell_type": "code",
   "execution_count": 14,
   "metadata": {
    "collapsed": false
   },
   "outputs": [
    {
     "name": "stdout",
     "output_type": "stream",
     "text": [
      "test_node_insert() passed!\n",
      "test_node_remove() passed!\n",
      "test_node_pop() passed!\n",
      "test_node_size() passed!\n"
     ]
    }
   ],
   "source": [
    "def test_node_size():\n",
    "    SLL = Node(5)\n",
    "    for x in range(2, 10):\n",
    "        SLL.insert(x)\n",
    "        result = SLL.size()\n",
    "        assert result == x, \"result: {} expected: {}\".format(result, x)\n",
    "        assert len(SLL) == x\n",
    "        \n",
    "    for x in range(0, 10, -1):\n",
    "        SLL.remove(x)\n",
    "        result = SLL.size()\n",
    "        assert result == x, \"result: {} expected: {}\".format(result, x)\n",
    "        assert len(SLL) == x\n",
    "        \n",
    "    print(\"test_node_size() passed!\")\n",
    "    \n",
    "\n",
    "test_node_insert()\n",
    "test_node_remove()\n",
    "test_node_pop()\n",
    "test_node_size()"
   ]
  },
  {
   "cell_type": "markdown",
   "metadata": {},
   "source": [
    "Sweet! Let's tackle the next challenge: `.search()` and with that we can solve our `__contains__` bonus challenge."
   ]
  },
  {
   "cell_type": "code",
   "execution_count": 18,
   "metadata": {
    "collapsed": true
   },
   "outputs": [],
   "source": [
    "class Node(object):\n",
    "    \n",
    "    def __init__(self, value, child=None):\n",
    "        self.value = value\n",
    "        self.child = child\n",
    "        self._size = 1\n",
    "        \n",
    "    def insert(self, value):\n",
    "        if self.child:\n",
    "            self._size += 1 # increase by one every insert\n",
    "            self.child.insert(value) \n",
    "        else:\n",
    "            self._size += 1\n",
    "            self.child = Node(value)\n",
    "            \n",
    "    \n",
    "    def remove(self, value):\n",
    "        if self.value == value:\n",
    "            try:\n",
    "                self.value = self.child.value\n",
    "                self.child = self.child.child\n",
    "                self._size -= 1 # decrease by one every remove\n",
    "                return True\n",
    "            except AttributeError:\n",
    "                return False\n",
    "        elif self.child:\n",
    "            if self.child.value == value:\n",
    "                self.child = self.child.child\n",
    "                self._size -= 1 # same thing\n",
    "                return True\n",
    "            else:\n",
    "                return self.child.remove(value)\n",
    "        else:\n",
    "            return False\n",
    "        \n",
    "    def pop(self):\n",
    "        try:\n",
    "            value = self.value\n",
    "            self.value, self.child = self.child.value, self.child.child\n",
    "            self._size -= 1 # decrease one every pop\n",
    "            return value\n",
    "        except AttributeError:\n",
    "            return\n",
    "        \n",
    "    def size(self):\n",
    "        return self._size\n",
    "    \n",
    "    __len__ = size\n",
    "    \n",
    "    def search(self, value):\n",
    "        if self.value == value:\n",
    "            return self\n",
    "        elif self.child:\n",
    "            return self.child.search(value)\n",
    "        else:\n",
    "            return False\n",
    "    \n",
    "    def __contains__(self, value):\n",
    "        return bool(self.search(value))"
   ]
  },
  {
   "cell_type": "markdown",
   "metadata": {},
   "source": [
    "The logic behind `.search()` is that it asks itself if is the value we're looking for. If it is, we return that Node; If it isn't, we proceed to ask the same question to each of it's children until we reach the end of the linked list and return False. our `__contains__` just takes advantage of `.search()` and returns the `bool()` value of the result.\n",
    "\n",
    "Let's write some tests."
   ]
  },
  {
   "cell_type": "code",
   "execution_count": 19,
   "metadata": {
    "collapsed": false
   },
   "outputs": [
    {
     "name": "stdout",
     "output_type": "stream",
     "text": [
      "test_node_insert() passed!\n",
      "test_node_remove() passed!\n",
      "test_node_pop() passed!\n",
      "test_node_size() passed!\n",
      "test_node_search() passed!\n"
     ]
    }
   ],
   "source": [
    "def test_node_search():\n",
    "    SLL = Node(5)\n",
    "    cities = \"Seattle Edmonds Lynnwood Redmond Bellevue\".split()\n",
    "    for city in cities:\n",
    "        SLL.insert(city)\n",
    "        \n",
    "        assert SLL.search(city).value == city\n",
    "        assert city in SLL\n",
    "        \n",
    "    assert SLL.search(\"Wales\") is False\n",
    "    assert \"Wales\" not in SLL\n",
    "    \n",
    "        \n",
    "    print(\"test_node_search() passed!\")\n",
    "    \n",
    "\n",
    "test_node_insert()\n",
    "test_node_remove()\n",
    "test_node_pop()\n",
    "test_node_size()\n",
    "test_node_search()"
   ]
  },
  {
   "cell_type": "markdown",
   "metadata": {},
   "source": [
    "Last thing to do, is to create a `.__str__()` and `.display()` method for our Node object. let's write that out. I'm going to render our Node like so:\n",
    "\n",
    "`[(0)>(1)>(2)>(3)]`"
   ]
  },
  {
   "cell_type": "code",
   "execution_count": 23,
   "metadata": {
    "collapsed": true
   },
   "outputs": [],
   "source": [
    "class Node(object):\n",
    "    \n",
    "    def __init__(self, value, child=None):\n",
    "        self.value = value\n",
    "        self.child = child\n",
    "        self._size = 1\n",
    "        \n",
    "    def insert(self, value):\n",
    "        if self.child:\n",
    "            self._size += 1 # increase by one every insert\n",
    "            self.child.insert(value) \n",
    "        else:\n",
    "            self._size += 1\n",
    "            self.child = Node(value)\n",
    "            \n",
    "    \n",
    "    def remove(self, value):\n",
    "        if self.value == value:\n",
    "            try:\n",
    "                self.value = self.child.value\n",
    "                self.child = self.child.child\n",
    "                self._size -= 1 # decrease by one every remove\n",
    "                return True\n",
    "            except AttributeError:\n",
    "                return False\n",
    "        elif self.child:\n",
    "            if self.child.value == value:\n",
    "                self.child = self.child.child\n",
    "                self._size -= 1 # same thing\n",
    "                return True\n",
    "            else:\n",
    "                return self.child.remove(value)\n",
    "        else:\n",
    "            return False\n",
    "        \n",
    "    def pop(self):\n",
    "        try:\n",
    "            value = self.value\n",
    "            self.value, self.child = self.child.value, self.child.child\n",
    "            self._size -= 1 # decrease one every pop\n",
    "            return value\n",
    "        except AttributeError:\n",
    "            return\n",
    "        \n",
    "    def size(self):\n",
    "        return self._size\n",
    "    \n",
    "    __len__ = size\n",
    "    \n",
    "    def search(self, value):\n",
    "        if self.value == value:\n",
    "            return self\n",
    "        elif self.child:\n",
    "            return self.child.search(value)\n",
    "        else:\n",
    "            return False\n",
    "    \n",
    "    def __contains__(self, value):\n",
    "        return bool(self.search(value))\n",
    "    \n",
    "    def display(self):\n",
    "        string = \"[\"\n",
    "        cursor = self\n",
    "        while cursor:\n",
    "            string += \"({})>\".format(cursor.value)\n",
    "            try:\n",
    "                cursor = cursor.child\n",
    "            except AttributeError:\n",
    "                break\n",
    "        return string[:-1] + ']'\n",
    "        \n",
    "    __str__ = display"
   ]
  },
  {
   "cell_type": "markdown",
   "metadata": {},
   "source": [
    "And of course, we write our tests!"
   ]
  },
  {
   "cell_type": "code",
   "execution_count": 26,
   "metadata": {
    "collapsed": false
   },
   "outputs": [
    {
     "name": "stdout",
     "output_type": "stream",
     "text": [
      "test_node_insert() passed!\n",
      "test_node_remove() passed!\n",
      "test_node_pop() passed!\n",
      "test_node_size() passed!\n",
      "test_node_search() passed!\n",
      "test_node_display() passed!\n"
     ]
    }
   ],
   "source": [
    "def test_node_display():\n",
    "    SLL = Node(1)\n",
    "    assert SLL.display() == \"[(1)]\"\n",
    "    assert str(SLL) == \"[(1)]\"\n",
    "    SLL.insert(2)\n",
    "    assert SLL.display() == str(SLL) == \"[(1)>(2)]\"\n",
    "    SLL.insert(\"Norton Pengra\")\n",
    "    assert SLL.display() == str(SLL) == \"[(1)>(2)>(Norton Pengra)]\"\n",
    "        \n",
    "    print(\"test_node_display() passed!\")\n",
    "    \n",
    "\n",
    "test_node_insert()\n",
    "test_node_remove()\n",
    "test_node_pop()\n",
    "test_node_size()\n",
    "test_node_search()\n",
    "test_node_display()"
   ]
  },
  {
   "cell_type": "markdown",
   "metadata": {},
   "source": [
    "We have created a Singly Linked List! This concludes my tutorial. The github repo of this can be found [here](http://github.com/) "
   ]
  }
 ],
 "metadata": {
  "kernelspec": {
   "display_name": "Python 3",
   "language": "python",
   "name": "python3"
  },
  "language_info": {
   "codemirror_mode": {
    "name": "ipython",
    "version": 3
   },
   "file_extension": ".py",
   "mimetype": "text/x-python",
   "name": "python",
   "nbconvert_exporter": "python",
   "pygments_lexer": "ipython3",
   "version": "3.5.1"
  }
 },
 "nbformat": 4,
 "nbformat_minor": 0
}
